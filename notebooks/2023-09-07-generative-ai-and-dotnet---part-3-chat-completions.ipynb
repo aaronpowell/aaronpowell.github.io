{
 "cells": [
  {
   "cell_type": "markdown",
   "metadata": {},
   "source": [
    "Install the NuGet package for working with OpenAI."
   ]
  },
  {
   "cell_type": "code",
   "execution_count": 1,
   "metadata": {
    "dotnet_interactive": {
     "language": "csharp"
    },
    "polyglot_notebook": {
     "kernelName": "csharp"
    }
   },
   "outputs": [
    {
     "data": {
      "text/html": [
       "<div><div></div><div></div><div><strong>Installed Packages</strong><ul><li><span>Azure.AI.OpenAI, 1.0.0-beta.7</span></li></ul></div></div>"
      ]
     },
     "metadata": {},
     "output_type": "display_data"
    }
   ],
   "source": [
    "#r \"nuget:Azure.AI.OpenAI,*-*\""
   ]
  },
  {
   "cell_type": "markdown",
   "metadata": {},
   "source": [
    "Capture the connection information for working with the service."
   ]
  },
  {
   "cell_type": "code",
   "execution_count": 2,
   "metadata": {
    "dotnet_interactive": {
     "language": "csharp"
    },
    "polyglot_notebook": {
     "kernelName": "csharp"
    }
   },
   "outputs": [],
   "source": [
    "using Microsoft.DotNet.Interactive;\n",
    "\n",
    "string endpoint = await Kernel.GetPasswordAsync(\"Enter the Azure OpenAI endpoint (or leave blank to use OpenAI).\");\n",
    "string apiKey = await Kernel.GetPasswordAsync(\"Please provide the API key.\");\n",
    "string model = await Kernel.GetInputAsync(\"Please provide the deployment or model name.\");"
   ]
  },
  {
   "cell_type": "markdown",
   "metadata": {},
   "source": [
    "Create an `OpenAIClient`, using either Azure OpenAI Service or OpenAI depending on the input provided."
   ]
  },
  {
   "cell_type": "code",
   "execution_count": 3,
   "metadata": {
    "dotnet_interactive": {
     "language": "csharp"
    },
    "polyglot_notebook": {
     "kernelName": "csharp"
    }
   },
   "outputs": [],
   "source": [
    "using Azure.AI.OpenAI;\n",
    "\n",
    "OpenAIClient client = string.IsNullOrEmpty(endpoint) ? new OpenAIClient(apiKey) : new OpenAIClient(new Uri(endpoint), new Azure.AzureKeyCredential(apiKey));"
   ]
  },
  {
   "cell_type": "markdown",
   "metadata": {},
   "source": [
    "Generate a chat completion using the `OpenAIClient`."
   ]
  },
  {
   "cell_type": "code",
   "execution_count": 12,
   "metadata": {
    "dotnet_interactive": {
     "language": "csharp"
    },
    "polyglot_notebook": {
     "kernelName": "csharp"
    }
   },
   "outputs": [
    {
     "name": "stdout",
     "output_type": "stream",
     "text": [
      "As an AI language model, I don't have personal experiences or emotions. However, I can provide you with a generic description of the most recent Star Wars movie, which is \"Star Wars: The Rise of Skywalker.\" \n",
      "\n",
      "The movie is set one year after the events of \"Star Wars: The Last Jedi,\" and follows the epic journey of Rey, Finn, and Poe as they embark on a mission to defeat the evil First Order led by Kylo Ren. Along the way, they face numerous challenges and confrontations with their enemies, leading to an ultimate showdown of good versus evil. The movie explores themes of redemption, the balance of power, and the ultimate triumph of hope and courage. The movie features returning fan-favorite characters and introduces new ones, culminating in an emotional and satisfying conclusion to the Skywalker saga.\n"
     ]
    }
   ],
   "source": [
    "using Azure;\n",
    "\n",
    "string prompt = \"Describe the most recent Star Wars movie\";\n",
    "\n",
    "ChatCompletionsOptions options = new(new[] { new ChatMessage(ChatRole.User, prompt) });\n",
    "\n",
    "Response<ChatCompletions> completions = await client.GetChatCompletionsAsync(model, options);\n",
    "\n",
    "foreach (ChatChoice choice in completions.Value.Choices)\n",
    "{\n",
    "    string content = choice.Message.Content;\n",
    "\n",
    "    Console.WriteLine(content);\n",
    "}"
   ]
  }
 ],
 "metadata": {
  "kernelspec": {
   "display_name": ".NET (C#)",
   "language": "C#",
   "name": ".net-csharp"
  },
  "language_info": {
   "name": "polyglot-notebook"
  },
  "polyglot_notebook": {
   "kernelInfo": {
    "defaultKernelName": "csharp",
    "items": [
     {
      "aliases": [],
      "languageName": "csharp",
      "name": "csharp"
     }
    ]
   }
  }
 },
 "nbformat": 4,
 "nbformat_minor": 2
}
