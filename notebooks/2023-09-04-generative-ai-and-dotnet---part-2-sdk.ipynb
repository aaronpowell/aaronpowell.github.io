{
 "cells": [
  {
   "cell_type": "markdown",
   "metadata": {},
   "source": [
    "Install the NuGet package for working with OpenAI."
   ]
  },
  {
   "cell_type": "code",
   "execution_count": 10,
   "metadata": {
    "dotnet_interactive": {
     "language": "csharp"
    },
    "polyglot_notebook": {
     "kernelName": "csharp"
    }
   },
   "outputs": [
    {
     "data": {
      "text/html": [
       "<div><div></div><div></div><div><strong>Installed Packages</strong><ul><li><span>Azure.AI.OpenAI, 1.0.0-beta.7</span></li></ul></div></div>"
      ]
     },
     "metadata": {},
     "output_type": "display_data"
    }
   ],
   "source": [
    "#r \"nuget:Azure.AI.OpenAI,*-*\""
   ]
  },
  {
   "cell_type": "markdown",
   "metadata": {},
   "source": [
    "Capture the connection information for working with the service."
   ]
  },
  {
   "cell_type": "code",
   "execution_count": 11,
   "metadata": {
    "dotnet_interactive": {
     "language": "csharp"
    },
    "polyglot_notebook": {
     "kernelName": "csharp"
    }
   },
   "outputs": [],
   "source": [
    "using Microsoft.DotNet.Interactive;\n",
    "\n",
    "string endpoint = await Kernel.GetPasswordAsync(\"Enter the Azure OpenAI endpoint (or leave blank to use OpenAI).\");\n",
    "string apiKey = await Kernel.GetPasswordAsync(\"Please provide the API key.\");\n",
    "string model = await Kernel.GetInputAsync(\"Please provide the deployment or model name.\");"
   ]
  },
  {
   "cell_type": "markdown",
   "metadata": {},
   "source": [
    "Create an `OpenAIClient`, using either Azure OpenAI Service or OpenAI depending on the input provided."
   ]
  },
  {
   "cell_type": "code",
   "execution_count": 12,
   "metadata": {
    "dotnet_interactive": {
     "language": "csharp"
    },
    "polyglot_notebook": {
     "kernelName": "csharp"
    }
   },
   "outputs": [],
   "source": [
    "using Azure.AI.OpenAI;\n",
    "\n",
    "OpenAIClient client = string.IsNullOrEmpty(endpoint) ? new OpenAIClient(apiKey) : new OpenAIClient(new Uri(endpoint), new Azure.AzureKeyCredential(apiKey));"
   ]
  },
  {
   "cell_type": "markdown",
   "metadata": {},
   "source": [
    "Generate a chat completion using the `OpenAIClient`."
   ]
  },
  {
   "cell_type": "code",
   "execution_count": 13,
   "metadata": {
    "dotnet_interactive": {
     "language": "csharp"
    },
    "polyglot_notebook": {
     "kernelName": "csharp"
    }
   },
   "outputs": [
    {
     "name": "stdout",
     "output_type": "stream",
     "text": [
      "As an AI language model, I do not have eyes or the capability to observe the environment. However, in general, the color of the sky depends on several factors such as time of day, location, and weather conditions. In the daytime, the color of the sky is typically blue, while at sunrise and sunset, it often appears in shades of red, pink, and orange. At night, the sky can look black, but with stars visible when there are no clouds and with moonlight when there's a bright full moon.\n"
     ]
    }
   ],
   "source": [
    "using Azure;\n",
    "\n",
    "ChatCompletionsOptions options = new(new[] { new ChatMessage(ChatRole.User, \"What is the colour of the sky?\") });\n",
    "\n",
    "Response<ChatCompletions> completions = await client.GetChatCompletionsAsync(model, options);\n",
    "\n",
    "foreach (ChatChoice choice in completions.Value.Choices)\n",
    "{\n",
    "    string content = choice.Message.Content;\n",
    "\n",
    "    Console.WriteLine(content);\n",
    "}"
   ]
  }
 ],
 "metadata": {
  "kernelspec": {
   "display_name": ".NET (C#)",
   "language": "C#",
   "name": ".net-csharp"
  },
  "language_info": {
   "name": "polyglot-notebook"
  },
  "polyglot_notebook": {
   "kernelInfo": {
    "defaultKernelName": "csharp",
    "items": [
     {
      "aliases": [],
      "languageName": "csharp",
      "name": "csharp"
     }
    ]
   }
  }
 },
 "nbformat": 4,
 "nbformat_minor": 2
}
