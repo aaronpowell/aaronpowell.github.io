{
 "cells": [
  {
   "cell_type": "markdown",
   "metadata": {},
   "source": [
    "Install the NuGet package for working with OpenAI."
   ]
  },
  {
   "cell_type": "code",
   "execution_count": 1,
   "metadata": {
    "dotnet_interactive": {
     "language": "csharp"
    },
    "polyglot_notebook": {
     "kernelName": "csharp"
    }
   },
   "outputs": [
    {
     "data": {
      "text/html": [
       "<div><div></div><div></div><div><strong>Installed Packages</strong><ul><li><span>Azure.AI.OpenAI, 1.0.0-beta.8</span></li></ul></div></div>"
      ]
     },
     "metadata": {},
     "output_type": "display_data"
    }
   ],
   "source": [
    "#r \"nuget:Azure.AI.OpenAI,*-*\""
   ]
  },
  {
   "cell_type": "markdown",
   "metadata": {},
   "source": [
    "Capture the connection information for working with the service."
   ]
  },
  {
   "cell_type": "code",
   "execution_count": 4,
   "metadata": {
    "dotnet_interactive": {
     "language": "csharp"
    },
    "polyglot_notebook": {
     "kernelName": "csharp"
    }
   },
   "outputs": [],
   "source": [
    "using Microsoft.DotNet.Interactive;\n",
    "\n",
    "PasswordString endpoint = await Kernel.GetPasswordAsync(\"Enter the Azure OpenAI endpoint (or leave blank to use OpenAI).\");\n",
    "PasswordString apiKey = await Kernel.GetPasswordAsync(\"Please provide the API key.\");\n",
    "string model = await Kernel.GetInputAsync(\"Please provide the deployment or model name.\");"
   ]
  },
  {
   "cell_type": "markdown",
   "metadata": {},
   "source": [
    "Create an `OpenAIClient`, using either Azure OpenAI Service or OpenAI depending on the input provided."
   ]
  },
  {
   "cell_type": "code",
   "execution_count": 6,
   "metadata": {
    "dotnet_interactive": {
     "language": "csharp"
    },
    "polyglot_notebook": {
     "kernelName": "csharp"
    }
   },
   "outputs": [],
   "source": [
    "using Azure.AI.OpenAI;\n",
    "\n",
    "OpenAIClient client = string.IsNullOrEmpty(endpoint.GetClearTextPassword()) ? \n",
    "    new OpenAIClient(apiKey.GetClearTextPassword()) :\n",
    "    new OpenAIClient(new Uri(endpoint.GetClearTextPassword()), new Azure.AzureKeyCredential(apiKey.GetClearTextPassword()));"
   ]
  },
  {
   "cell_type": "markdown",
   "metadata": {},
   "source": [
    "Generate a chat completion using the `OpenAIClient`."
   ]
  },
  {
   "cell_type": "code",
   "execution_count": null,
   "metadata": {
    "dotnet_interactive": {
     "language": "csharp"
    },
    "polyglot_notebook": {
     "kernelName": "csharp"
    }
   },
   "outputs": [],
   "source": [
    "using Azure;\n",
    "\n",
    "string prompt = \"Describe the most recent Star Wars movie\";\n",
    "\n",
    "ChatCompletionsOptions options = new(new[] { new ChatMessage(ChatRole.User, prompt) });\n",
    "\n",
    "Response<StreamingChatCompletions> completions = await client.GetChatCompletionsStreamingAsync(model, options);\n",
    "\n",
    "IAsyncEnumerable<StreamingChatChoice> choices = completions.Value.GetChoicesStreaming();\n",
    "\n",
    "await foreach (StreamingChatChoice choice in choices)\n",
    "{\n",
    "    IAsyncEnumerable<ChatMessage> messageStream = choice.GetMessageStreaming();\n",
    "\n",
    "    await foreach (ChatMessage message in messageStream)\n",
    "    {\n",
    "        string content = message.Content;\n",
    "\n",
    "        Console.Write(content);\n",
    "    }\n",
    "    Console.WriteLine();\n",
    "}"
   ]
  }
 ],
 "metadata": {
  "kernelspec": {
   "display_name": ".NET (C#)",
   "language": "C#",
   "name": ".net-csharp"
  },
  "language_info": {
   "name": "polyglot-notebook"
  },
  "polyglot_notebook": {
   "kernelInfo": {
    "defaultKernelName": "csharp",
    "items": [
     {
      "aliases": [],
      "languageName": "csharp",
      "name": "csharp"
     }
    ]
   }
  }
 },
 "nbformat": 4,
 "nbformat_minor": 2
}
